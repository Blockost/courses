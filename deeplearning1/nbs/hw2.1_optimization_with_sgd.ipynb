{
 "cells": [
  {
   "cell_type": "code",
   "execution_count": 246,
   "metadata": {},
   "outputs": [],
   "source": [
    "%matplotlib inline\n",
    "from matplotlib import pyplot as plt, rcParams, animation, rc\n",
    "# Set plot size\n",
    "rcParams['figure.figsize'] = 3, 3\n",
    "\n",
    "import numpy as np\n",
    "\n",
    "# Set precision for printed outputs\n",
    "np.set_printoptions(precision=4, linewidth=100)"
   ]
  },
  {
   "cell_type": "code",
   "execution_count": 14,
   "metadata": {
    "collapsed": true
   },
   "outputs": [],
   "source": [
    "def f_lin(x, a, b): return a*x + b\n",
    "\n",
    "a = 2.\n",
    "b = 5."
   ]
  },
  {
   "cell_type": "code",
   "execution_count": 232,
   "metadata": {},
   "outputs": [
    {
     "name": "stdout",
     "output_type": "stream",
     "text": [
      "(30,) [ 0.1361  0.9089  0.3545  0.9918  0.1983  0.4982  0.3884  0.1565  0.9268  0.0136  0.4209  0.0805\n",
      "  0.2927  0.2931  0.8479  0.0865  0.6751  0.6966  0.0692  0.3044  0.1141  0.702   0.9491  0.5915\n",
      "  0.0555  0.2826  0.6161  0.3107  0.678   0.845 ]\n",
      "(30,) [ 5.2721  6.8178  5.7091  6.9837  5.3967  5.9965  5.7768  5.313   6.8535  5.0273  5.8419  5.161\n",
      "  5.5854  5.5863  6.6958  5.173   6.3502  6.3933  5.1384  5.6088  5.2282  6.4041  6.8981  6.183\n",
      "  5.1111  5.5653  6.2323  5.6215  6.3559  6.69  ]\n"
     ]
    },
    {
     "data": {
      "text/plain": [
       "<matplotlib.collections.PathCollection at 0x7fd983931950>"
      ]
     },
     "execution_count": 232,
     "metadata": {},
     "output_type": "execute_result"
    },
    {
     "data": {
      "image/png": "[encoded data removed]",
      "text/plain": [
       "<matplotlib.figure.Figure at 0x7fd983a6f610>"
      ]
     },
     "metadata": {},
     "output_type": "display_data"
    }
   ],
   "source": [
    "# Generate 10 randoms \"x\"\n",
    "n = 30\n",
    "x = np.random.random(n)\n",
    "y = f_lin(x, a, b)\n",
    "\n",
    "print (x.shape, x)\n",
    "print (y.shape, y)\n",
    "\n",
    "plt.scatter(x, y)"
   ]
  },
  {
   "cell_type": "code",
   "execution_count": 37,
   "metadata": {
    "collapsed": true
   },
   "outputs": [],
   "source": [
    "# Define our loss function. We'll use sum of squared errors (SSE)\n",
    "def sse(val, val_pred): return np.power(val - val_pred, 2).sum() # or ((val - val_pred)**2).sum()\n",
    "\n",
    "# Define how to calculate loss for our example\n",
    "def loss(val, x, a, b): return sse(val, f_lin(x, a, b))\n",
    "\n",
    "# Define the average loss for all the data (n)\n",
    "def avg_loss(y, x, a, b): return np.sqrt(loss(y, x, a, b)/n)"
   ]
  },
  {
   "cell_type": "markdown",
   "metadata": {},
   "source": [
    "Start with wild guess (*a_guess* and *b_guess*) for *a* and *b*. Our goal will be to update *a_guess* and *b_guess* in order to minimze our loss."
   ]
  },
  {
   "cell_type": "markdown",
   "metadata": {},
   "source": [
    "After \"enough\" updates, *a_guess* and *b_guess* should be close to the original *a* and *b*."
   ]
  },
  {
   "cell_type": "code",
   "execution_count": 255,
   "metadata": {},
   "outputs": [
    {
     "data": {
      "text/plain": [
       "6.4568"
      ]
     },
     "execution_count": 255,
     "metadata": {},
     "output_type": "execute_result"
    }
   ],
   "source": [
    "# Arbitrary guess\n",
    "a_guess = 1.\n",
    "b_guess = -1.\n",
    "\n",
    "# Test our a_guess and b_guess\n",
    "avg_loss(y, x, a_guess, b_guess)"
   ]
  },
  {
   "cell_type": "markdown",
   "metadata": {},
   "source": [
    "Because our guesses were totally random, we get a huge loss. We now need to update those guesses in the way it will decrease our loss. "
   ]
  },
  {
   "cell_type": "code",
   "execution_count": 257,
   "metadata": {},
   "outputs": [],
   "source": [
    "# Define the learning rate.\n",
    "lr = 0.1\n",
    "\n",
    "def update(loop=500):\n",
    "    # Make a_guess and b_guess global\n",
    "    global a_guess, b_guess\n",
    "    \n",
    "    for i in range(loop):\n",
    "    \n",
    "        # Calculate a prediction\n",
    "        val_pred = f_lin(x, a_guess, b_guess)\n",
    "\n",
    "        # Calculate the error, i.e, how far it is from the real values\n",
    "        loss = avg_loss(val_pred, x, a, b)\n",
    "        #print loss\n",
    "\n",
    "        # In order to update our guesses, we need to compute the derivatives of our loss function\n",
    "        # It will tell us which way we need to update them (increase or decrease) and by which amount\n",
    "        # d[(y - (a*x + b))**2, b] = 2 (b + a x - y) = 2 (y_pred - y) = dloss_db\n",
    "        # d[(y - (a*x + b))**2, a] = 2 x (b + a x - y) = 2 x (y_pred - y) = x * dloss_db = dloss_da\n",
    "\n",
    "        dloss_db = 2*(val_pred - y)\n",
    "        dloss_da = x*dloss_db\n",
    "\n",
    "        a_guess -= lr*dloss_da.mean()\n",
    "        b_guess -= lr*dloss_db.mean()\n",
    "        \n",
    "    print(\"Parameters -> a_guess = {}, b_guess = {} after {} runs\".format(a_guess, b_guess, loop))"
   ]
  },
  {
   "cell_type": "code",
   "execution_count": 266,
   "metadata": {},
   "outputs": [
    {
     "name": "stdout",
     "output_type": "stream",
     "text": [
      "Parameters -> a_guess = 2.0, b_guess = 5.0 after 500 runs\n"
     ]
    }
   ],
   "source": [
    "update(500)"
   ]
  }
 ],
 "metadata": {
  "kernelspec": {
   "display_name": "Python [conda root]",
   "language": "python",
   "name": "conda-root-py"
  },
  "language_info": {
   "codemirror_mode": {
    "name": "ipython",
    "version": 2
   },
   "file_extension": ".py",
   "mimetype": "text/x-python",
   "name": "python",
   "nbconvert_exporter": "python",
   "pygments_lexer": "ipython2",
   "version": "2.7.12"
  }
 },
 "nbformat": 4,
 "nbformat_minor": 2
}
